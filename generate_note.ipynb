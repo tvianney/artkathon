{
 "cells": [
  {
   "cell_type": "code",
   "execution_count": 65,
   "id": "cd12c88c",
   "metadata": {},
   "outputs": [],
   "source": [
    "import pandas as pd\n",
    "from PIL import Image, ImageDraw\n",
    "from colorsys import hls_to_rgb \n",
    "import numpy as np\n",
    "from IPython.display import display"
   ]
  },
  {
   "cell_type": "code",
   "execution_count": 66,
   "id": "08a6f15f",
   "metadata": {},
   "outputs": [],
   "source": [
    "# --- 1. CONFIGURATION (SETTINGS) ---\n",
    "IMAGE_SIZE = 800  # Canvas er size (800x800 pixels)\n",
    "MAX_RADIUS = 40   # point/circle (Maximum size)\n",
    "BACKGROUND_COLOR = (0, 0, 0) # Black background\n",
    "DATA_FILE = 'IRIS.csv'"
   ]
  },
  {
   "cell_type": "code",
   "execution_count": 68,
   "id": "50289b98",
   "metadata": {},
   "outputs": [
    {
     "data": {
      "text/html": [
       "<div>\n",
       "<style scoped>\n",
       "    .dataframe tbody tr th:only-of-type {\n",
       "        vertical-align: middle;\n",
       "    }\n",
       "\n",
       "    .dataframe tbody tr th {\n",
       "        vertical-align: top;\n",
       "    }\n",
       "\n",
       "    .dataframe thead th {\n",
       "        text-align: right;\n",
       "    }\n",
       "</style>\n",
       "<table border=\"1\" class=\"dataframe\">\n",
       "  <thead>\n",
       "    <tr style=\"text-align: right;\">\n",
       "      <th></th>\n",
       "      <th>sepal_length</th>\n",
       "      <th>sepal_width</th>\n",
       "      <th>petal_length</th>\n",
       "      <th>petal_width</th>\n",
       "      <th>species</th>\n",
       "    </tr>\n",
       "  </thead>\n",
       "  <tbody>\n",
       "    <tr>\n",
       "      <th>0</th>\n",
       "      <td>5.1</td>\n",
       "      <td>3.5</td>\n",
       "      <td>1.4</td>\n",
       "      <td>0.2</td>\n",
       "      <td>Iris-setosa</td>\n",
       "    </tr>\n",
       "    <tr>\n",
       "      <th>1</th>\n",
       "      <td>4.9</td>\n",
       "      <td>3.0</td>\n",
       "      <td>1.4</td>\n",
       "      <td>0.2</td>\n",
       "      <td>Iris-setosa</td>\n",
       "    </tr>\n",
       "    <tr>\n",
       "      <th>2</th>\n",
       "      <td>4.7</td>\n",
       "      <td>3.2</td>\n",
       "      <td>1.3</td>\n",
       "      <td>0.2</td>\n",
       "      <td>Iris-setosa</td>\n",
       "    </tr>\n",
       "    <tr>\n",
       "      <th>3</th>\n",
       "      <td>4.6</td>\n",
       "      <td>3.1</td>\n",
       "      <td>1.5</td>\n",
       "      <td>0.2</td>\n",
       "      <td>Iris-setosa</td>\n",
       "    </tr>\n",
       "    <tr>\n",
       "      <th>4</th>\n",
       "      <td>5.0</td>\n",
       "      <td>3.6</td>\n",
       "      <td>1.4</td>\n",
       "      <td>0.2</td>\n",
       "      <td>Iris-setosa</td>\n",
       "    </tr>\n",
       "    <tr>\n",
       "      <th>...</th>\n",
       "      <td>...</td>\n",
       "      <td>...</td>\n",
       "      <td>...</td>\n",
       "      <td>...</td>\n",
       "      <td>...</td>\n",
       "    </tr>\n",
       "    <tr>\n",
       "      <th>145</th>\n",
       "      <td>6.7</td>\n",
       "      <td>3.0</td>\n",
       "      <td>5.2</td>\n",
       "      <td>2.3</td>\n",
       "      <td>Iris-virginica</td>\n",
       "    </tr>\n",
       "    <tr>\n",
       "      <th>146</th>\n",
       "      <td>6.3</td>\n",
       "      <td>2.5</td>\n",
       "      <td>5.0</td>\n",
       "      <td>1.9</td>\n",
       "      <td>Iris-virginica</td>\n",
       "    </tr>\n",
       "    <tr>\n",
       "      <th>147</th>\n",
       "      <td>6.5</td>\n",
       "      <td>3.0</td>\n",
       "      <td>5.2</td>\n",
       "      <td>2.0</td>\n",
       "      <td>Iris-virginica</td>\n",
       "    </tr>\n",
       "    <tr>\n",
       "      <th>148</th>\n",
       "      <td>6.2</td>\n",
       "      <td>3.4</td>\n",
       "      <td>5.4</td>\n",
       "      <td>2.3</td>\n",
       "      <td>Iris-virginica</td>\n",
       "    </tr>\n",
       "    <tr>\n",
       "      <th>149</th>\n",
       "      <td>5.9</td>\n",
       "      <td>3.0</td>\n",
       "      <td>5.1</td>\n",
       "      <td>1.8</td>\n",
       "      <td>Iris-virginica</td>\n",
       "    </tr>\n",
       "  </tbody>\n",
       "</table>\n",
       "<p>150 rows × 5 columns</p>\n",
       "</div>"
      ],
      "text/plain": [
       "     sepal_length  sepal_width  petal_length  petal_width         species\n",
       "0             5.1          3.5           1.4          0.2     Iris-setosa\n",
       "1             4.9          3.0           1.4          0.2     Iris-setosa\n",
       "2             4.7          3.2           1.3          0.2     Iris-setosa\n",
       "3             4.6          3.1           1.5          0.2     Iris-setosa\n",
       "4             5.0          3.6           1.4          0.2     Iris-setosa\n",
       "..            ...          ...           ...          ...             ...\n",
       "145           6.7          3.0           5.2          2.3  Iris-virginica\n",
       "146           6.3          2.5           5.0          1.9  Iris-virginica\n",
       "147           6.5          3.0           5.2          2.0  Iris-virginica\n",
       "148           6.2          3.4           5.4          2.3  Iris-virginica\n",
       "149           5.9          3.0           5.1          1.8  Iris-virginica\n",
       "\n",
       "[150 rows x 5 columns]"
      ]
     },
     "execution_count": 68,
     "metadata": {},
     "output_type": "execute_result"
    }
   ],
   "source": [
    "iris_df = pd.read_csv(DATA_FILE)\n",
    "iris_df"
   ]
  },
  {
   "cell_type": "code",
   "execution_count": 69,
   "id": "a95242f4",
   "metadata": {},
   "outputs": [],
   "source": [
    "iris_df.reset_index(inplace=True)"
   ]
  },
  {
   "cell_type": "code",
   "execution_count": 70,
   "id": "09540f1a",
   "metadata": {},
   "outputs": [
    {
     "data": {
      "text/html": [
       "<div>\n",
       "<style scoped>\n",
       "    .dataframe tbody tr th:only-of-type {\n",
       "        vertical-align: middle;\n",
       "    }\n",
       "\n",
       "    .dataframe tbody tr th {\n",
       "        vertical-align: top;\n",
       "    }\n",
       "\n",
       "    .dataframe thead th {\n",
       "        text-align: right;\n",
       "    }\n",
       "</style>\n",
       "<table border=\"1\" class=\"dataframe\">\n",
       "  <thead>\n",
       "    <tr style=\"text-align: right;\">\n",
       "      <th></th>\n",
       "      <th>index</th>\n",
       "      <th>sepal_length</th>\n",
       "      <th>sepal_width</th>\n",
       "      <th>petal_length</th>\n",
       "      <th>petal_width</th>\n",
       "    </tr>\n",
       "  </thead>\n",
       "  <tbody>\n",
       "    <tr>\n",
       "      <th>count</th>\n",
       "      <td>150.000000</td>\n",
       "      <td>150.000000</td>\n",
       "      <td>150.000000</td>\n",
       "      <td>150.000000</td>\n",
       "      <td>150.000000</td>\n",
       "    </tr>\n",
       "    <tr>\n",
       "      <th>mean</th>\n",
       "      <td>74.500000</td>\n",
       "      <td>5.843333</td>\n",
       "      <td>3.054000</td>\n",
       "      <td>3.758667</td>\n",
       "      <td>1.198667</td>\n",
       "    </tr>\n",
       "    <tr>\n",
       "      <th>std</th>\n",
       "      <td>43.445368</td>\n",
       "      <td>0.828066</td>\n",
       "      <td>0.433594</td>\n",
       "      <td>1.764420</td>\n",
       "      <td>0.763161</td>\n",
       "    </tr>\n",
       "    <tr>\n",
       "      <th>min</th>\n",
       "      <td>0.000000</td>\n",
       "      <td>4.300000</td>\n",
       "      <td>2.000000</td>\n",
       "      <td>1.000000</td>\n",
       "      <td>0.100000</td>\n",
       "    </tr>\n",
       "    <tr>\n",
       "      <th>25%</th>\n",
       "      <td>37.250000</td>\n",
       "      <td>5.100000</td>\n",
       "      <td>2.800000</td>\n",
       "      <td>1.600000</td>\n",
       "      <td>0.300000</td>\n",
       "    </tr>\n",
       "    <tr>\n",
       "      <th>50%</th>\n",
       "      <td>74.500000</td>\n",
       "      <td>5.800000</td>\n",
       "      <td>3.000000</td>\n",
       "      <td>4.350000</td>\n",
       "      <td>1.300000</td>\n",
       "    </tr>\n",
       "    <tr>\n",
       "      <th>75%</th>\n",
       "      <td>111.750000</td>\n",
       "      <td>6.400000</td>\n",
       "      <td>3.300000</td>\n",
       "      <td>5.100000</td>\n",
       "      <td>1.800000</td>\n",
       "    </tr>\n",
       "    <tr>\n",
       "      <th>max</th>\n",
       "      <td>149.000000</td>\n",
       "      <td>7.900000</td>\n",
       "      <td>4.400000</td>\n",
       "      <td>6.900000</td>\n",
       "      <td>2.500000</td>\n",
       "    </tr>\n",
       "  </tbody>\n",
       "</table>\n",
       "</div>"
      ],
      "text/plain": [
       "            index  sepal_length  sepal_width  petal_length  petal_width\n",
       "count  150.000000    150.000000   150.000000    150.000000   150.000000\n",
       "mean    74.500000      5.843333     3.054000      3.758667     1.198667\n",
       "std     43.445368      0.828066     0.433594      1.764420     0.763161\n",
       "min      0.000000      4.300000     2.000000      1.000000     0.100000\n",
       "25%     37.250000      5.100000     2.800000      1.600000     0.300000\n",
       "50%     74.500000      5.800000     3.000000      4.350000     1.300000\n",
       "75%    111.750000      6.400000     3.300000      5.100000     1.800000\n",
       "max    149.000000      7.900000     4.400000      6.900000     2.500000"
      ]
     },
     "execution_count": 70,
     "metadata": {},
     "output_type": "execute_result"
    }
   ],
   "source": [
    "iris_df.describe()\n"
   ]
  },
  {
   "cell_type": "code",
   "execution_count": 71,
   "id": "cf1e7633",
   "metadata": {},
   "outputs": [
    {
     "data": {
      "text/plain": [
       "index           0\n",
       "sepal_length    0\n",
       "sepal_width     0\n",
       "petal_length    0\n",
       "petal_width     0\n",
       "species         0\n",
       "dtype: int64"
      ]
     },
     "execution_count": 71,
     "metadata": {},
     "output_type": "execute_result"
    }
   ],
   "source": [
    "iris_df.isnull().sum()"
   ]
  },
  {
   "cell_type": "code",
   "execution_count": 72,
   "id": "328626e6",
   "metadata": {},
   "outputs": [
    {
     "data": {
      "text/plain": [
       "0"
      ]
     },
     "execution_count": 72,
     "metadata": {},
     "output_type": "execute_result"
    }
   ],
   "source": [
    "iris_df.duplicated().sum()"
   ]
  },
  {
   "cell_type": "code",
   "execution_count": 73,
   "id": "2268c22a",
   "metadata": {},
   "outputs": [
    {
     "data": {
      "text/plain": [
       "array(['Iris-setosa', 'Iris-versicolor', 'Iris-virginica'], dtype=object)"
      ]
     },
     "execution_count": 73,
     "metadata": {},
     "output_type": "execute_result"
    }
   ],
   "source": [
    "iris_df['species'].unique()"
   ]
  },
  {
   "cell_type": "code",
   "execution_count": 74,
   "id": "a20a3359",
   "metadata": {},
   "outputs": [
    {
     "data": {
      "text/plain": [
       "species\n",
       "Iris-setosa        50\n",
       "Iris-versicolor    50\n",
       "Iris-virginica     50\n",
       "Name: count, dtype: int64"
      ]
     },
     "execution_count": 74,
     "metadata": {},
     "output_type": "execute_result"
    }
   ],
   "source": [
    "iris_df['species'].value_counts()"
   ]
  },
  {
   "cell_type": "code",
   "execution_count": 75,
   "id": "4c74616b",
   "metadata": {},
   "outputs": [
    {
     "name": "stdout",
     "output_type": "stream",
     "text": [
      "Normalization complete.\n",
      "   Norm_sepal_length  Norm_sepal_width  Norm_petal_length  Norm_petal_width\n",
      "0           0.222222          0.625000           0.067797          0.041667\n",
      "1           0.166667          0.416667           0.067797          0.041667\n",
      "2           0.111111          0.500000           0.050847          0.041667\n",
      "3           0.083333          0.458333           0.084746          0.041667\n",
      "4           0.194444          0.666667           0.067797          0.041667\n"
     ]
    }
   ],
   "source": [
    "# --- 1. DATA PROCESSING AND NORMALIZATION ---\n",
    "\n",
    "numeric_cols = ['sepal_length', 'sepal_width', 'petal_length', 'petal_width']\n",
    "\n",
    "\n",
    "for col in numeric_cols:\n",
    "    min_val = iris_df[col].min()\n",
    "    max_val = iris_df[col].max()\n",
    "    range_val = max_val - min_val\n",
    "    \n",
    "    # Min-Max Normalization formula: (Value - Min) / Range\n",
    "    if range_val == 0:\n",
    "        \n",
    "        iris_df[f'Norm_{col}'] = 0.5 \n",
    "    else:\n",
    "        # Normalization\n",
    "        iris_df[f'Norm_{col}'] = (iris_df[col] - min_val) / range_val\n",
    "\n",
    "print(\"Normalization complete.\")\n",
    "\n",
    "\n",
    "\n",
    "print(iris_df.filter(like='Norm_').head())"
   ]
  },
  {
   "cell_type": "code",
   "execution_count": 80,
   "id": "a487407c",
   "metadata": {},
   "outputs": [
    {
     "name": "stdout",
     "output_type": "stream",
     "text": [
      "Color HSL mapping functions ready.\n"
     ]
    }
   ],
   "source": [
    "# --- COLOR LOGIC SETUP ---\n",
    "\n",
    "def get_species_hue(species):\n",
    "    \n",
    "    if species == 'Iris-setosa':\n",
    "        return 30    # Orange (Warm Color Cluster)\n",
    "    elif species == 'Iris-versicolor':\n",
    "        return 180   # Cyan (Cool Color Cluster)\n",
    "    else: # Iris-virginica\n",
    "        return 270   # Purple (Vibrant Color Cluster)\n",
    "\n",
    "def hls_to_rgba(hue, lightness, saturation, alpha_norm):\n",
    "    \"\"\"HSL to RGBA (with Transparency) \"\"\"\n",
    "    \n",
    "    r, g, b = hls_to_rgb(hue / 360.0, lightness / 100.0, saturation / 100.0)\n",
    "    \n",
    "    \n",
    "    r = int(r * 255)\n",
    "    g = int(g * 255)\n",
    "    b = int(b * 255)\n",
    "    alpha = int(alpha_norm * 255)\n",
    "    \n",
    "    return (r, g, b, alpha)\n",
    "\n",
    "print(\"Color HSL mapping functions ready.\")"
   ]
  },
  {
   "cell_type": "code",
   "execution_count": null,
   "id": "e79b07ed",
   "metadata": {},
   "outputs": [
    {
     "name": "stdout",
     "output_type": "stream",
     "text": [
      "Generative Algorithm finished. Image is ready to display.\n"
     ]
    }
   ],
   "source": [
    "# --- THE GENERATIVE ALGORITHM ---\n",
    "\n",
    "img = Image.new('RGB', (IMAGE_SIZE, IMAGE_SIZE), BACKGROUND_COLOR)\n",
    "draw = ImageDraw.Draw(img, 'RGBA') \n",
    "\n",
    "\n",
    "for index, row in iris_df.iterrows():\n",
    "    \n",
    "    # --- MAPPING & TRANSFORMATION ---\n",
    "    \n",
    "    # POSITION (X & Y) - mapping from Sepal Length and Width \n",
    "    x = int(row['Norm_sepal_length'] * IMAGE_SIZE)\n",
    "    y = int(row['Norm_sepal_width'] * IMAGE_SIZE)\n",
    "    \n",
    "    # SIZE (Radius) - mapping Petal Length \n",
    "    # Size = 5 (minimum) + 40 (maximum range)\n",
    "    radius = 5 + int(row['Norm_petal_length'] * MAX_RADIUS) \n",
    "    \n",
    "    # COLOR (RGBA) - mapping from Species and Petal Width\n",
    "    hue = get_species_hue(row['species'])\n",
    "    alpha_norm = row['Norm_petal_width'] # Opacity (0.0 to 1.0)\n",
    "    \n",
    "    final_color = hls_to_rgba(\n",
    "        hue=hue, \n",
    "        lightness=60, # Fixed lightness\n",
    "        saturation=90, # Fixed saturation\n",
    "        alpha_norm=alpha_norm\n",
    "    )\n",
    "    \n",
    "    # --- DRAWING THE SHAPE (CIRCLE) ---\n",
    "    \n",
    "    # Circle er Bounding Box\n",
    "    bbox = (x - radius, y - radius, x + radius, y + radius)\n",
    "    \n",
    "    # Circle aanka (semi-transparent)\n",
    "    draw.ellipse(bbox, fill=final_color)\n",
    "\n",
    "print(\"Generative Algorithm finished. Image is ready to display.\")"
   ]
  },
  {
   "cell_type": "code",
   "execution_count": 82,
   "id": "d455b7ba",
   "metadata": {},
   "outputs": [
    {
     "name": "stdout",
     "output_type": "stream",
     "text": [
      "\n",
      "--- FINAL ABSTRACT ART OUTPUT ---\n"
     ]
    },
    {
     "data": {
      "image/jpeg": "[encoded data removed]",
      "image/png": "[encoded data removed]",
      "text/plain": [
       "<PIL.Image.Image image mode=RGB size=800x800>"
      ]
     },
     "metadata": {},
     "output_type": "display_data"
    },
    {
     "name": "stdout",
     "output_type": "stream",
     "text": [
      "\n",
      " Art successfully saved as: iris_abstract_art_final.png\n"
     ]
    }
   ],
   "source": [
    "# --- DISPLAY AND SAVE FINAL ART ---\n",
    "\n",
    "output_filename = 'iris_abstract_art_final.png'\n",
    "\n",
    "print(\"\\n--- FINAL ABSTRACT ART OUTPUT ---\")\n",
    "display(img)\n",
    "\n",
    "try:\n",
    "    img.save(output_filename)\n",
    "    print(f\"\\n Art successfully saved as: {output_filename}\")\n",
    "    \n",
    "except Exception as e:\n",
    "    print(f\"Error saving image: {e}\")"
   ]
  }
 ],
 "metadata": {
  "kernelspec": {
   "display_name": "base",
   "language": "python",
   "name": "python3"
  },
  "language_info": {
   "codemirror_mode": {
    "name": "ipython",
    "version": 3
   },
   "file_extension": ".py",
   "mimetype": "text/x-python",
   "name": "python",
   "nbconvert_exporter": "python",
   "pygments_lexer": "ipython3",
   "version": "3.12.7"
  }
 },
 "nbformat": 4,
 "nbformat_minor": 5
}
